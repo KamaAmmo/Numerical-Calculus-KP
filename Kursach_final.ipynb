{
  "cells": [
    {
      "cell_type": "code",
      "execution_count": 1,
      "metadata": {
        "id": "TyUWAa8wl3WI"
      },
      "outputs": [],
      "source": [
        "import numpy as np\n",
        "import matplotlib.pyplot as plt\n",
        "import matplotlib.animation as animation\n",
        "from numpy import sqrt, abs, ceil"
      ]
    },
    {
      "cell_type": "code",
      "execution_count": 199,
      "metadata": {
        "id": "G3CLJ5Uxl3WN"
      },
      "outputs": [],
      "source": [
        "G = 6.67*10**(-11)      #Грав постоянная\n",
        "M = 5.974 * 10**(24)  #масса Земли\n",
        "m = 1                   #масса тела\n",
        "ALPHA = 3              \n",
        "R0 = 6371 * 10 **3\n"
      ]
    },
    {
      "cell_type": "code",
      "execution_count": 207,
      "metadata": {
        "id": "wC5X4i3il3WU"
      },
      "outputs": [],
      "source": [
        "def f_right(u_vec):\n",
        "  \n",
        "  r = sqrt(u_vec[0]**2 + u_vec[1]**2)\n",
        "  new_x = (-G  * M)  * (u_vec[0]/r**ALPHA)\n",
        "  new_y = -G  * M  * (u_vec[1]/r**ALPHA)\n",
        "  return np.array((new_x, new_y))\n",
        "\n",
        "def f_give(u_vec): return u_vec\n",
        "\n",
        "def fun_x(u_vec):\n",
        "    r = sqrt(u_vec[0]**2 + u_vec[1]**2)\n",
        "    return -G  * M  * (u_vec[0]/r**ALPHA)\n",
        "\n",
        "def fun_y(u_vec):\n",
        "    r = sqrt(u_vec[0]**2 + u_vec[1]**2)\n",
        "    return -G  * M * (u_vec[1]/r**ALPHA)\n",
        "\n",
        "\n",
        "def K1(u_vec, fun):\n",
        "    return fun(u_vec)\n",
        "\n",
        "def K2(u_vec, h, K1, fun):\n",
        "    return fun(u_vec + 0.1*h * K1)\n",
        "\n",
        "def K3(u_vec, h, K1, K2, fun):\n",
        "    return fun(u_vec - 0.053*h*K1 + 0.353*h*K2)\n",
        "\n",
        "\n",
        "def give_x(u_vec):\n",
        "    return u_vec[0]\n",
        "\n",
        "def give_y(u_vec):\n",
        "    return u_vec[1]\n",
        "\n",
        "\n",
        "def Euler(h, f, u_vec, proj, norm_k=1):\n",
        "  \n",
        "  res = proj + h * f(u_vec) * norm_k\n",
        "  return res\n",
        "\n",
        "def RK(h, fun, u_vec, proj, norm_k=1):\n",
        "    K1ex = K1(u_vec, fun) * norm_k\n",
        "    K2ex = K2(u_vec, h, K1ex, fun) * norm_k\n",
        "    K3ex = K3( u_vec, h, K1ex, K2ex, fun) * norm_k\n",
        "    res = proj + (h/3)*(49/3*K1ex - 55/2 * K2ex + 85/6* K3ex) \n",
        "    return res\n",
        "\n",
        "\n",
        "def rynge(h, y0, fun, cycle_fun, a, b, eps, p):\n",
        "    arr_h = np.array(cycle_fun(h, y0,  a, b, fun))\n",
        "    arr_h2 = np.array(cycle_fun(h/2, y0, a, b, fun))\n",
        "    arr_h2 = arr_h2[::2]\n",
        "    difference = abs(arr_h - arr_h2)/(2**p - 1)\n",
        "    while max(difference) > eps:\n",
        "        h /= 2\n",
        "        arr_h = np.array(cycle_fun(h, y0, a, b, fun))\n",
        "        arr_h2 = np.array(cycle_fun(h/2, y0, a, b, fun))\n",
        "        arr_h2 = arr_h2[::2]\n",
        "        difference  = abs(arr_h - arr_h2)/(2**p - 1)\n",
        "    return (arr_h, h)\n"
      ]
    },
    {
      "cell_type": "code",
      "execution_count": 208,
      "metadata": {
        "id": "EqFh17F2R5Ep"
      },
      "outputs": [],
      "source": [
        "def solve_RK(h, a, b, velocity, R):\n",
        "    \n",
        "    n = int(ceil(abs(b - a)/h))\n",
        "   \n",
        "    r = np.zeros((n, 2))           # coordinates  # velocities\n",
        "    r[0, 0] = R  #x\n",
        "    r[0, 1] = 0   #y\n",
        "    \n",
        "    v = np.zeros((n, 2))          # velocities\n",
        "    v[0, 0] = 0   #x\n",
        "    v[0, 1] = velocity   #y\n",
        "\n",
        "    # normalization\n",
        "\n",
        "    T0 = R / velocity\n",
        "    r[0, 0] = 1\n",
        "    v[0, 1] = 1\n",
        "    h = h / T0\n",
        "\n",
        "    norm_k = 1 / (R * velocity ** 2)\n",
        "\n",
        "    revolutions = 0 # laps counter\n",
        "\n",
        "    r_dots = []\n",
        "    for i in range(1, n):\n",
        "        \n",
        "        v[i] = RK(h, f_right, r[i-1], v[i-1], norm_k)\n",
        "        r[i] = RK(h, f_give, v[i], r[i-1])\n",
        "\n",
        "        # count revolutions\n",
        "        \n",
        "        if v[i, 1] > 0 and (v[i-1, 0] > 0 and v[i, 0] <= 0):\n",
        "          \n",
        "          # revolution\n",
        "          revolutions += 1\n",
        "          r_dots.append([r[i,0]* R, r[i, 1]* R])\n",
        "          \n",
        "        \n",
        "        if sqrt(r[i, 0] ** 2 + r[i, 1] ** 2) < R0 / R:\n",
        "          print('Falling')\n",
        "          return r[:i+1] * R, v[:i+1]* velocity, revolutions, np.array(r_dots)\n",
        "        \n",
        "        if sqrt(r[i, 0] ** 2 + r[i, 1] ** 2) > 100*R0 / R:\n",
        "          print('Flown away...')\n",
        "          return r[:i-1] * R, v[:i-1]* velocity, revolutions, np.array(r_dots)\n",
        "    \n",
        "    return r * R, v * velocity, revolutions, np.array(r_dots)\n",
        "\n",
        "def solve_Euler(h, a, b, velocity, R):\n",
        "    n = int(ceil(abs(b - a)/h))\n",
        "    r = np.zeros((n, 2))           # coordinates  # velocities\n",
        "    r[0, 0] = R  #x\n",
        "    r[0, 1] = 0   #y\n",
        "    v = np.zeros((n, 2))          # velocities\n",
        "    v[0, 0] = 0   #x\n",
        "    v[0, 1] = velocity   #y\n",
        "\n",
        "    # normalization\n",
        "\n",
        "    T0 = R / velocity\n",
        "    r[0, 0] = 1\n",
        "    v[0, 1] = 1\n",
        "    h = h / T0\n",
        "\n",
        "    norm_k = 1 / (R * velocity ** 2)\n",
        "\n",
        "    revolutions = 0 # laps counter\n",
        "\n",
        "    r_dots = []\n",
        "    for i in range(1, n):\n",
        "        \n",
        "        v[i] = Euler(h, f_right, r[i-1], v[i-1], norm_k)\n",
        "        \n",
        "        r[i] = Euler(h, f_give, v[i], r[i-1])\n",
        "        #print(r[i])\n",
        "        \n",
        "        # count revolutions\n",
        "        if v[i, 1] > 0 and (v[i-1, 0] > 0 and v[i, 0] <= 0):\n",
        "          # revolution\n",
        "          revolutions += 1\n",
        "          r_dots.append([r[i,0]* R, r[i, 1]* R])\n",
        "        if sqrt(r[i, 0] ** 2 + r[i, 1] ** 2) < R0 / R:\n",
        "          print('Falling')\n",
        "          return r[:i+1] * R, v[:i+1]* velocity, revolutions, np.array(r_dots)\n",
        "        if sqrt(r[i, 0] ** 2 + r[i, 1] ** 2) > 100*R0 / R:\n",
        "          print('Flown away...')\n",
        "          return r[:i-1] * R, v[:i-1]* velocity, revolutions, np.array(r_dots)\n",
        "    \n",
        "    return r * R, v * velocity, revolutions, np.array(r_dots)\n",
        "          \n",
        "        \n",
        "        \n",
        "\n",
        "    "
      ]
    },
    {
      "cell_type": "code",
      "execution_count": 209,
      "metadata": {
        "id": "a0Kb97YvF3li"
      },
      "outputs": [
        {
          "name": "stdout",
          "output_type": "stream",
          "text": [
            "Flown away...\n"
          ]
        }
      ],
      "source": [
        "a = 0\n",
        "b = 800000\n",
        "dt = 30\n",
        "v0 = 2000\n",
        "R = 4.716 * R0\n",
        "\n",
        "rs,vs, revols, r_dots = solve_RK(dt, a, b, v0, R)"
      ]
    },
    {
      "cell_type": "code",
      "execution_count": 210,
      "metadata": {
        "colab": {
          "base_uri": "https://localhost:8080/",
          "height": 294
        },
        "id": "oXARg3rDwCnf",
        "outputId": "1a4f2fab-138b-46f4-af12-d8ac94753dc2"
      },
      "outputs": [
        {
          "data": {
            "text/plain": [
              "94391.14933003302"
            ]
          },
          "execution_count": 210,
          "metadata": {},
          "output_type": "execute_result"
        },
        {
          "data": {
            "image/png": "[encoded data removed]",
            "text/plain": [
              "<Figure size 1000x1000 with 1 Axes>"
            ]
          },
          "metadata": {},
          "output_type": "display_data"
        }
      ],
      "source": [
        "#draw Earth\n",
        "t = np.arange(0, 2*np.pi, 0.01)\n",
        "x_earth = np.array(R0*np.cos(t))\n",
        "y_earth = np.array(R0*np.sin(t))\n",
        "\n",
        "# plt.style.use(\"dark_background\")\n",
        "fig, ax = plt.subplots(figsize=(10, 10))\n",
        "ax.plot(x_earth, y_earth, label='Earth', c='#457B9D')\n",
        "ax.fill_between(x_earth, y_earth, color='#457BAD', alpha=1)\n",
        "ax.plot(rs[:,0], rs[:,1], label='trajectory', c='#F77F00')\n",
        "ax.set(aspect=1)\n",
        "ax.set_title(f'number of revolutions: {revols}')\n",
        "\n",
        "if r_dots.size > 0: \n",
        "  ax.scatter(r_dots[:, 0],r_dots[:,1], label='lap endpoints')\n",
        "  # ax.scatter(rs[-1:, 0],r_dots[-1:,1], label='endpoint')\n",
        "\n",
        "ax.legend()\n",
        "T_period = 2 * np.pi * R / v0\n",
        "T_period\n"
      ]
    },
    {
      "cell_type": "code",
      "execution_count": 10,
      "metadata": {
        "colab": {
          "base_uri": "https://localhost:8080/",
          "height": 1000
        },
        "id": "x0vsUZLF1C4W",
        "outputId": "a50efc1a-19dc-421d-a3cf-1e2a695220d1"
      },
      "outputs": [],
      "source": [
        "# draw multiple portraits with different parameters\n",
        "\n",
        "a = 0\n",
        "b = 80000\n",
        "dt = 30\n",
        "v0 = 3690\n",
        "R = 2 * R0\n",
        "\n",
        "#draw Earth\n",
        "t = np.arange(0, 2*np.pi, 0.01)\n",
        "x_earth = np.array(R0*np.cos(t))\n",
        "y_earth = np.array(R0*np.sin(t))\n",
        "\n",
        "# fig, axs = plt.subplots(10, 10, figsize=(20, 20))\n",
        "\n",
        "# R_curr = R\n",
        "# for i in range(10):\n",
        "#   v0_curr = v0\n",
        "  \n",
        "#   for j in range(10):\n",
        "    \n",
        "#     rs,vs, revols, r_dots = solve_RK(dt, a, b, v0_curr, R_curr)\n",
        "    \n",
        "#     axs[i][j].plot(x_earth, y_earth, label='Earth', c='#457B9D')\n",
        "#     axs[i][j].fill_between(x_earth, y_earth, color='#457BAD', alpha=.85)\n",
        "    \n",
        "#     axs[i][j].plot(rs[:,0], rs[:,1],  'k', label='trajectory', c='#F77F00')\n",
        "#     axs[i][j].set(aspect=1)\n",
        "#     axs[i][j].set_title(f'revolutions: {revols}')\n",
        "#     axs[i][j].set_ylim(-5*R0, 5*R0)\n",
        "#     axs[i][j].set_xlim(-5*R0, 5*R0)\n",
        "#     #axs[i][j].legend();\n",
        "\n",
        "#     # update initial velocity parameter\n",
        "#     v0_curr += 0.18*v0\n",
        "\n",
        "#   # update initial distance parameter\n",
        "#   R_curr *= 1.1\n",
        "\n",
        "# plt.tight_layout(w_pad=2.5)"
      ]
    },
    {
      "cell_type": "code",
      "execution_count": 11,
      "metadata": {
        "colab": {
          "base_uri": "https://localhost:8080/"
        },
        "id": "YDydsoYrlLnV",
        "outputId": "d3190317-caee-45ca-afa9-1cd159318214"
      },
      "outputs": [
        {
          "data": {
            "text/plain": [
              "21696.571052596824"
            ]
          },
          "execution_count": 11,
          "metadata": {},
          "output_type": "execute_result"
        }
      ],
      "source": [
        "T_period = 2 * np.pi * R / v0\n",
        "T_period"
      ]
    },
    {
      "cell_type": "code",
      "execution_count": 12,
      "metadata": {
        "colab": {
          "base_uri": "https://localhost:8080/"
        },
        "id": "94XsRMQ19iE_",
        "outputId": "64d69260-fe89-4503-b1d4-51f8fbfd8411"
      },
      "outputs": [
        {
          "data": {
            "text/plain": [
              "8142.4487804878045"
            ]
          },
          "execution_count": 12,
          "metadata": {},
          "output_type": "execute_result"
        }
      ],
      "source": [
        "R0 * 4.716 / 3690"
      ]
    },
    {
      "cell_type": "code",
      "execution_count": 13,
      "metadata": {
        "colab": {
          "base_uri": "https://localhost:8080/",
          "height": 294
        },
        "id": "8snJexheJCb3",
        "outputId": "34778ef6-25f6-4b8f-c935-fbcedebe541d"
      },
      "outputs": [
        {
          "data": {
            "image/png": "[encoded data removed]",
            "text/plain": [
              "<Figure size 432x288 with 1 Axes>"
            ]
          },
          "metadata": {
            "needs_background": "light"
          },
          "output_type": "display_data"
        }
      ],
      "source": [
        "def data_gen():\n",
        "\n",
        "    i = 0\n",
        "\n",
        "    for t in range(rs.shape[0]):\n",
        "        i += 1\n",
        "        #if sqrt(rs[i, 0] ** 2 + rs[i, 1] ** 2) < R0:\n",
        "        #   print('Falling')\n",
        "        #   yield (rs[i, 0], rs[i, 1])\n",
        "        # if sqrt(rs[i, 0] ** 2 + rs[i, 1] ** 2) > 100*R0:\n",
        "        #   print('Flown away...')\n",
        "        #   yield (rs[i, 0], rs[i, 1])\n",
        "        # #print(f'gen {i}')\n",
        "        yield (rs[t, 0], rs[t, 1])\n",
        "\n",
        "\n",
        "def init():\n",
        "    ax.set_ylim(-3.5*R0, 3.5*R0)\n",
        "    ax.set_xlim(-3.5*R0, 3.5*R0)\n",
        "    xdata = np.array([])\n",
        "    ydata = np.array([])\n",
        "    line.set_data(xdata, ydata)\n",
        "    return line,\n",
        "\n",
        "fig, ax = plt.subplots()\n",
        "line, = ax.plot([], [], lw=2, c='#F77F00',label='trajectory')\n",
        "ax.grid(linestyle='--', linewidth=1, color='#757575')\n",
        "ax.set_ylim(-5*R0, 5*R0)\n",
        "ax.set_xlim(-5*R0, 5*R0)\n",
        "ax.set(aspect=1)\n",
        "ax.set_title(f'number of revolutions: {revols}')\n",
        "ax.legend(loc='lower right');\n",
        "\n",
        "xdata = np.array([rs[0,0]])\n",
        "ydata = np.array([rs[0,1]])\n",
        "\n",
        "d = np.arange(0, 2*np.pi, 0.01)\n",
        "x_earth = np.array(R0*np.cos(d))\n",
        "y_earth = np.array(R0*np.sin(d))\n",
        "#\n",
        "ax.plot(x_earth, y_earth, label='Earth', c='#457B9D')\n",
        "ax.fill_between(x_earth, y_earth, color='#457BAD', alpha=.85)\n",
        "\n",
        "\n",
        "def run(data):\n",
        "    global xdata, ydata\n",
        "    # update the data\n",
        "    x, y = data\n",
        "    xdata = np.concatenate((xdata,[x]))\n",
        "    ydata = np.concatenate((ydata,[y]))\n",
        "    xmin, xmax = ax.get_xlim()\n",
        "\n",
        "    # if x >= xmax:\n",
        "    #     ax.set_xlim(xmin, 2*xmax)\n",
        "    #     ax.figure.canvas.draw()\n",
        "    \n",
        "    \n",
        "    line.set_data(xdata, ydata)\n",
        "    \n",
        "\n",
        "    return line,\n",
        "\n",
        "\n",
        "ani = animation.FuncAnimation(fig, run, data_gen,interval=5, save_count=rs.shape[0] )\n",
        "writergif = animation.PillowWriter(fps=30)\n",
        "ani.save('eartr.gif', writer=writergif)"
      ]
    },
    {
      "cell_type": "code",
      "execution_count": null,
      "metadata": {
        "id": "ySJ4ElBLxCLC"
      },
      "outputs": [],
      "source": []
    },
    {
      "cell_type": "markdown",
      "metadata": {
        "id": "6bPVBGQyhmxX"
      },
      "source": [
        "*Реализуйте процедуру численного анализа полученного решения с целью выяснения его периодичности, определите период вращения спутника, оцените точность определения периода.*  \n",
        "Оценить можно также степень близости траектории к окружности"
      ]
    },
    {
      "cell_type": "markdown",
      "metadata": {
        "id": "n0h6i1IoADY5"
      },
      "source": [
        "Конечная точка - точка траектории, *в которой заканчивается периодическая часть квазипериодической траектории* или в которой вектор скорости тела совпадает с начальным вектором скорости.  \n",
        "Для круговой траектории тело возвращается в одну и ту же точку после полного оборота по окружности, для незамкнутой траектории из-за сдвига конечная точка также сдвигается на некоторое расстояние"
      ]
    },
    {
      "cell_type": "markdown",
      "metadata": {
        "id": "uydCafJxwJur"
      },
      "source": [
        "Подсчет разброса конечных точек траектории "
      ]
    },
    {
      "cell_type": "code",
      "execution_count": 47,
      "metadata": {
        "colab": {
          "base_uri": "https://localhost:8080/",
          "height": 296
        },
        "id": "SZp-0_pBwD7f",
        "outputId": "dd42ba9a-b068-443f-87b4-55fd2c04263d"
      },
      "outputs": [
        {
          "data": {
            "text/plain": [
              "<matplotlib.collections.PathCollection at 0x1daa0b42ac0>"
            ]
          },
          "execution_count": 47,
          "metadata": {},
          "output_type": "execute_result"
        },
        {
          "data": {
            "image/png": "[encoded data removed]",
            "text/plain": [
              "<Figure size 432x288 with 1 Axes>"
            ]
          },
          "metadata": {
            "needs_background": "light"
          },
          "output_type": "display_data"
        }
      ],
      "source": [
        "plt.scatter(r_dots[:, 0],r_dots[:,1], label='endpoints')"
      ]
    },
    {
      "cell_type": "code",
      "execution_count": 48,
      "metadata": {
        "colab": {
          "base_uri": "https://localhost:8080/"
        },
        "id": "_Vsj1JTZwD7g",
        "outputId": "da72235a-580a-4e96-c24d-bd2a1d932f60"
      },
      "outputs": [
        {
          "name": "stdout",
          "output_type": "stream",
          "text": [
            "[30090294.53999182  -551451.53410979]\n",
            "[ 66808.41339807 544358.79670923]\n",
            "548443.1270929491\n"
          ]
        }
      ],
      "source": [
        "\n",
        "m = r_dots.mean(axis=0)\n",
        "start_point = np.array([R, 0])\n",
        "print(m)\n",
        "rng = np.abs(r_dots - r_dots.mean(axis=0)).max(axis=0)\n",
        "rng_var = np.sqrt(rng[0] **2 + rng[1] ** 2)\n",
        "print(rng)\n",
        "print(rng_var)"
      ]
    },
    {
      "cell_type": "code",
      "execution_count": 49,
      "metadata": {
        "colab": {
          "base_uri": "https://localhost:8080/",
          "height": 296
        },
        "id": "EJ0_yybZwD7h",
        "outputId": "1bddebef-31ab-4e92-caf8-c31066630f20"
      },
      "outputs": [
        {
          "data": {
            "text/plain": [
              "[<matplotlib.lines.Line2D at 0x1daa6dc2580>]"
            ]
          },
          "execution_count": 49,
          "metadata": {},
          "output_type": "execute_result"
        },
        {
          "data": {
            "image/png": "[encoded data removed]",
            "text/plain": [
              "<Figure size 432x288 with 1 Axes>"
            ]
          },
          "metadata": {
            "needs_background": "light"
          },
          "output_type": "display_data"
        }
      ],
      "source": [
        "t = np.arange(0, 2*np.pi, 0.01)\n",
        "plt.scatter(r_dots[:, 0],r_dots[:,1], label='endpoints')\n",
        "plt.scatter(m[0], m[1], label='endpoints');\n",
        "\n",
        "plt.plot(rng_var*np.cos(t)+ m[0], rng_var*np.sin(t) + m[1])"
      ]
    },
    {
      "cell_type": "code",
      "execution_count": 50,
      "metadata": {
        "colab": {
          "base_uri": "https://localhost:8080/"
        },
        "id": "d9GWn_nFi06U",
        "outputId": "28af9983-5ad0-4022-ae70-06a404dee5bb"
      },
      "outputs": [
        {
          "data": {
            "text/plain": [
              "0.018253670086828887"
            ]
          },
          "execution_count": 50,
          "metadata": {},
          "output_type": "execute_result"
        }
      ],
      "source": [
        "rng_var / R"
      ]
    },
    {
      "cell_type": "code",
      "execution_count": 51,
      "metadata": {
        "colab": {
          "base_uri": "https://localhost:8080/"
        },
        "id": "G_d5su7XGM1Y",
        "outputId": "2ad2dd43-0c92-45be-91e2-2d90727433aa"
      },
      "outputs": [
        {
          "data": {
            "text/plain": [
              "2390.9557438699007"
            ]
          },
          "execution_count": 51,
          "metadata": {},
          "output_type": "execute_result"
        }
      ],
      "source": [
        "(R/v0)/(np.pi)"
      ]
    },
    {
      "cell_type": "markdown",
      "metadata": {
        "id": "xY1GdG5TH8Yx"
      },
      "source": [
        "Степень близости к окружности:  \n",
        "Провести окружность с радиусом начального вектора  \n",
        "посчитать разность расстояний между точками окружности и траектории"
      ]
    },
    {
      "cell_type": "code",
      "execution_count": 174,
      "metadata": {
        "id": "cmx-4dNxGV6m"
      },
      "outputs": [],
      "source": [
        "def solve_RK_2(h, a, b, velocity, R):\n",
        "    \n",
        "    n = int(ceil(abs(b - a)/h))\n",
        "   \n",
        "    r = np.zeros((n, 2))           # coordinates  # velocities\n",
        "    r[0, 0] = R  #x\n",
        "    r[0, 1] = 0   #y\n",
        "    \n",
        "    v = np.zeros((n, 2))          # velocities\n",
        "    v[0, 0] = 0   #x\n",
        "    v[0, 1] = velocity   #y\n",
        "\n",
        "    # normalization\n",
        "\n",
        "    T0 = R / velocity\n",
        "    r[0, 0] = 1\n",
        "    v[0, 1] = 1\n",
        "    h = h / T0\n",
        "\n",
        "    norm_k = 1 / (R * velocity ** 2)\n",
        "\n",
        "    revolutions = 0 # laps counter\n",
        "\n",
        "    r_dots = []     # endpoints coordinates\n",
        "    i_dots = []     # endpoints time \n",
        "    for i in range(1, n):\n",
        "        \n",
        "        v[i] = RK(h, f_right, r[i-1], v[i-1], norm_k)\n",
        "        r[i] = RK(h, f_give, v[i], r[i-1])\n",
        "\n",
        "        # count revolutions\n",
        "        \n",
        "        if v[i, 1] > 0 and (v[i-1, 0] > 0 and v[i, 0] <= 0):\n",
        "          \n",
        "          # revolution\n",
        "          revolutions += 1\n",
        "          r_dots.append([r[i,0]* R, r[i, 1]* R])\n",
        "          i_dots.append(i)                                  # get \n",
        "        \n",
        "        if sqrt(r[i, 0] ** 2 + r[i, 1] ** 2) < R0 / R:\n",
        "          print('Falling')\n",
        "          return r[:i+1] * R, v[:i+1]* velocity, revolutions, np.array(r_dots)\n",
        "        \n",
        "        if sqrt(r[i, 0] ** 2 + r[i, 1] ** 2) > 100*R0 / R:\n",
        "          print('Flown away...')\n",
        "          return r[:i-1] * R, v[:i-1]* velocity, revolutions, np.array(r_dots)\n",
        "    \n",
        "    return r * R, v * velocity, revolutions, np.array(r_dots), np.array(i_dots)"
      ]
    },
    {
      "cell_type": "code",
      "execution_count": 176,
      "metadata": {
        "id": "0iSOXonbId7b"
      },
      "outputs": [],
      "source": [
        "a = 0\n",
        "b = 72000\n",
        "dt = 30\n",
        "v0 = 3770\n",
        "R = 4.416 * R0\n",
        "\n",
        "rs,vs, revols, r_dots, i_dots = solve_RK_2(dt, a, b, v0, R)"
      ]
    },
    {
      "cell_type": "code",
      "execution_count": 164,
      "metadata": {
        "colab": {
          "base_uri": "https://localhost:8080/",
          "height": 294
        },
        "id": "Q7NgCFMJId7c",
        "outputId": "fe854b7e-3797-4732-e6c3-9a4e29f39c17"
      },
      "outputs": [
        {
          "name": "stderr",
          "output_type": "stream",
          "text": [
            "C:\\Users\\kamil\\AppData\\Local\\Temp\\ipykernel_16900\\258923630.py:16: UserWarning: color is redundantly defined by the 'color' keyword argument and the fmt string \"k\" (-> color=(0.0, 0.0, 0.0, 1)). The keyword argument will take precedence.\n",
            "  ax.plot(rs[:i_dots[0],0], rs[:i_dots[0],1],  'k', label='trajectory', c='#F77F00')\n"
          ]
        },
        {
          "data": {
            "image/png": "[encoded data removed]",
            "text/plain": [
              "<Figure size 640x480 with 1 Axes>"
            ]
          },
          "metadata": {},
          "output_type": "display_data"
        }
      ],
      "source": [
        "#draw Earth\n",
        "n_points = rs.shape[0]\n",
        "t = np.linspace(0, 2*np.pi, i_dots[0])\n",
        "x_earth = np.array(R0*np.cos(t))\n",
        "y_earth = np.array(R0*np.sin(t))\n",
        "\n",
        "x_circle = np.array(R*np.cos(t))\n",
        " \n",
        "y_circle = np.array(R*np.sin(t))\n",
        "\n",
        "plt.style.use(\"default\")\n",
        "fig, ax = plt.subplots()\n",
        "ax.plot(x_earth, y_earth, label='Earth', c='#457B9D')\n",
        "ax.fill_between(x_earth, y_earth, color='#457BAD', alpha=1)\n",
        "\n",
        "ax.plot(rs[:i_dots[0],0], rs[:i_dots[0],1],  'k', label='trajectory', c='#F77F00')\n",
        "\n",
        "ax.plot(x_circle, y_circle, label='circle', c='#451F9D')\n",
        "\n",
        "ax.set(aspect=1)\n",
        "ax.set_title(f'number of revolutions: {revols}')\n",
        "\n",
        "\n",
        "ax.legend();\n"
      ]
    },
    {
      "cell_type": "code",
      "execution_count": 165,
      "metadata": {
        "colab": {
          "base_uri": "https://localhost:8080/"
        },
        "id": "SaAczulcJfhB",
        "outputId": "1ec6f3d7-d0da-49a0-a0c5-d905db0a1df9"
      },
      "outputs": [
        {
          "data": {
            "text/plain": [
              "-1.436044947314767"
            ]
          },
          "execution_count": 165,
          "metadata": {},
          "output_type": "execute_result"
        }
      ],
      "source": [
        "dists = (x_circle - rs[:i_dots[0],0])**2 +  (y_circle - rs[:i_dots[0],1])**2  # dist between traj and circle points\n",
        "d = np.max(np.sqrt(dists))\n",
        "sim_koef = 1 - d / R\n",
        "sim_koef    # coefficent shows similarity to circle of curve "
      ]
    },
    {
      "cell_type": "code",
      "execution_count": 182,
      "metadata": {
        "id": "YT_KCXZ9J-6S"
      },
      "outputs": [
        {
          "name": "stdout",
          "output_type": "stream",
          "text": [
            "Коэффициент близости:0.9514026472973189\n",
            "Начальная скорость: 3730\n",
            "Период T = 47392.29130896883\n"
          ]
        }
      ],
      "source": [
        "def find_opt_speed(v0):\n",
        "    a = 0\n",
        "    b = 72000\n",
        "    dt = 30\n",
        "    R = 4.416 * R0\n",
        "    \n",
        "\n",
        "    while True:\n",
        "        rs,vs, revols, r_dots, i_dots = solve_RK_2(dt, a, b, v0, R)\n",
        "\n",
        "        n_points = rs.shape[0]\n",
        "        t = np.linspace(0, 2*np.pi, i_dots[0])\n",
        "        x_earth = np.array(R0*np.cos(t))\n",
        "        y_earth = np.array(R0*np.sin(t))\n",
        "\n",
        "        x_circle = np.array(R*np.cos(t))\n",
        "        \n",
        "        y_circle = np.array(R*np.sin(t))\n",
        "\n",
        "    \n",
        "        \n",
        "        dists = (x_circle - rs[:i_dots[0],0])**2 + (y_circle - rs[:i_dots[0],1])**2  # dist between traj and circle points\n",
        "        d = np.max(np.sqrt(dists))\n",
        "        sim_koef = 1 - d / R\n",
        "        if sim_koef < 0.95:\n",
        "            v0 += 10\n",
        "        elif v0 > 4000:\n",
        "            print('Скорость превышена')\n",
        "            break\n",
        "        else:\n",
        "            print(f'Коэффициент близости:{sim_koef}\\nНачальная скорость: {v0}')\n",
        "            T_period = 2 * np.pi * R / v0\n",
        "            print(f'Период T = {T_period}')\n",
        "            break\n",
        "    \n",
        "\n",
        "find_opt_speed(3000)"
      ]
    },
    {
      "cell_type": "code",
      "execution_count": 179,
      "metadata": {},
      "outputs": [
        {
          "data": {
            "text/plain": [
              "46889.4553269108"
            ]
          },
          "execution_count": 179,
          "metadata": {},
          "output_type": "execute_result"
        },
        {
          "data": {
            "image/png": "[encoded data removed]",
            "text/plain": [
              "<Figure size 640x480 with 1 Axes>"
            ]
          },
          "metadata": {},
          "output_type": "display_data"
        }
      ],
      "source": [
        "\n",
        "plt.style.use(\"default\")\n",
        "fig, ax = plt.subplots()\n",
        "ax.plot(x_earth, y_earth, label='Earth', c='#457B9D')\n",
        "ax.fill_between(x_earth, y_earth, color='#457BAD', alpha=1)\n",
        "\n",
        "ax.plot(rs[:i_dots[0],0], rs[:i_dots[0],1], label='trajectory', c='#F77F00')\n",
        "\n",
        "ax.plot(x_circle, y_circle, label='circle', c='#451F9D')\n",
        "\n",
        "ax.set(aspect=1)\n",
        "ax.set_title(f'number of revolutions: {revols}')\n",
        "\n",
        "\n",
        "ax.legend(loc='lower left')\n"
      ]
    }
  ],
  "metadata": {
    "colab": {
      "provenance": []
    },
    "kernelspec": {
      "display_name": "Python 3.9.13 64-bit (microsoft store)",
      "language": "python",
      "name": "python3"
    },
    "language_info": {
      "codemirror_mode": {
        "name": "ipython",
        "version": 3
      },
      "file_extension": ".py",
      "mimetype": "text/x-python",
      "name": "python",
      "nbconvert_exporter": "python",
      "pygments_lexer": "ipython3",
      "version": "3.9.13 (tags/v3.9.13:6de2ca5, May 17 2022, 16:36:42) [MSC v.1929 64 bit (AMD64)]"
    },
    "orig_nbformat": 4,
    "vscode": {
      "interpreter": {
        "hash": "56c18b2537ae515794bb1a4f5127b692e7dd9c4a64b19e01726b355fd71fb8a4"
      }
    }
  },
  "nbformat": 4,
  "nbformat_minor": 0
}
